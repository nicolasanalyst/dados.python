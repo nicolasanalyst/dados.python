{
 "cells": [
  {
   "cell_type": "code",
   "execution_count": 4,
   "id": "b5ea914e-91de-4419-bcc4-88205603fdc0",
   "metadata": {},
   "outputs": [],
   "source": [
    "import pandas as pd\n",
    "import seaborn as srn\n",
    "import statistics as sts"
   ]
  },
  {
   "cell_type": "code",
   "execution_count": 13,
   "id": "c58bd5eb-cd17-4be7-86cb-b924a1b75e68",
   "metadata": {},
   "outputs": [
    {
     "data": {
      "text/html": [
       "<div>\n",
       "<style scoped>\n",
       "    .dataframe tbody tr th:only-of-type {\n",
       "        vertical-align: middle;\n",
       "    }\n",
       "\n",
       "    .dataframe tbody tr th {\n",
       "        vertical-align: top;\n",
       "    }\n",
       "\n",
       "    .dataframe thead th {\n",
       "        text-align: right;\n",
       "    }\n",
       "</style>\n",
       "<table border=\"1\" class=\"dataframe\">\n",
       "  <thead>\n",
       "    <tr style=\"text-align: right;\">\n",
       "      <th></th>\n",
       "      <th>X0</th>\n",
       "      <th>X1</th>\n",
       "      <th>X2</th>\n",
       "      <th>X3</th>\n",
       "      <th>X4</th>\n",
       "      <th>X4.1</th>\n",
       "      <th>X6</th>\n",
       "      <th>X7</th>\n",
       "      <th>X8</th>\n",
       "      <th>X9</th>\n",
       "      <th>X10</th>\n",
       "      <th>X11</th>\n",
       "    </tr>\n",
       "  </thead>\n",
       "  <tbody>\n",
       "    <tr>\n",
       "      <th>0</th>\n",
       "      <td>1</td>\n",
       "      <td>619</td>\n",
       "      <td>RS</td>\n",
       "      <td>Feminino</td>\n",
       "      <td>42</td>\n",
       "      <td>2</td>\n",
       "      <td>0</td>\n",
       "      <td>1</td>\n",
       "      <td>1</td>\n",
       "      <td>1</td>\n",
       "      <td>10134888.0</td>\n",
       "      <td>1</td>\n",
       "    </tr>\n",
       "    <tr>\n",
       "      <th>1</th>\n",
       "      <td>2</td>\n",
       "      <td>608</td>\n",
       "      <td>SC</td>\n",
       "      <td>Feminino</td>\n",
       "      <td>41</td>\n",
       "      <td>1</td>\n",
       "      <td>8380786</td>\n",
       "      <td>1</td>\n",
       "      <td>0</td>\n",
       "      <td>1</td>\n",
       "      <td>11254258.0</td>\n",
       "      <td>0</td>\n",
       "    </tr>\n",
       "    <tr>\n",
       "      <th>2</th>\n",
       "      <td>3</td>\n",
       "      <td>502</td>\n",
       "      <td>RS</td>\n",
       "      <td>Feminino</td>\n",
       "      <td>42</td>\n",
       "      <td>8</td>\n",
       "      <td>1596608</td>\n",
       "      <td>3</td>\n",
       "      <td>1</td>\n",
       "      <td>0</td>\n",
       "      <td>11393157.0</td>\n",
       "      <td>1</td>\n",
       "    </tr>\n",
       "    <tr>\n",
       "      <th>3</th>\n",
       "      <td>4</td>\n",
       "      <td>699</td>\n",
       "      <td>RS</td>\n",
       "      <td>Feminino</td>\n",
       "      <td>39</td>\n",
       "      <td>1</td>\n",
       "      <td>0</td>\n",
       "      <td>2</td>\n",
       "      <td>0</td>\n",
       "      <td>0</td>\n",
       "      <td>9382663.0</td>\n",
       "      <td>0</td>\n",
       "    </tr>\n",
       "    <tr>\n",
       "      <th>4</th>\n",
       "      <td>5</td>\n",
       "      <td>850</td>\n",
       "      <td>SC</td>\n",
       "      <td>Feminino</td>\n",
       "      <td>43</td>\n",
       "      <td>2</td>\n",
       "      <td>12551082</td>\n",
       "      <td>1</td>\n",
       "      <td>1</td>\n",
       "      <td>1</td>\n",
       "      <td>790841.0</td>\n",
       "      <td>0</td>\n",
       "    </tr>\n",
       "  </tbody>\n",
       "</table>\n",
       "</div>"
      ],
      "text/plain": [
       "   X0   X1  X2        X3  X4  X4.1        X6  X7  X8  X9         X10  X11\n",
       "0   1  619  RS  Feminino  42     2         0   1   1   1  10134888.0    1\n",
       "1   2  608  SC  Feminino  41     1   8380786   1   0   1  11254258.0    0\n",
       "2   3  502  RS  Feminino  42     8   1596608   3   1   0  11393157.0    1\n",
       "3   4  699  RS  Feminino  39     1         0   2   0   0   9382663.0    0\n",
       "4   5  850  SC  Feminino  43     2  12551082   1   1   1    790841.0    0"
      ]
     },
     "execution_count": 13,
     "metadata": {},
     "output_type": "execute_result"
    }
   ],
   "source": [
    "#importar dados e visualizar\n",
    "dataset = pd.read_csv(\"Churn.csv\", sep=\";\")\n",
    "dataset.head()"
   ]
  },
  {
   "cell_type": "code",
   "execution_count": 14,
   "id": "76a8940f-700a-46ce-9029-57659d0b7d89",
   "metadata": {},
   "outputs": [],
   "source": [
    "#primeiro problema é dar nomes as colunas\n",
    "dataset.columns = [\"id\", \"score\", \"Estado\", \"Genero\", \"Idade\", \"patrímonio\", \"Saldo\", \"produtos\",\n",
    "                   \"temcartcredito\", \"Ativo\", \"Salario\", \"Saiu\"]"
   ]
  },
  {
   "cell_type": "code",
   "execution_count": 15,
   "id": "d08bb79c-dd17-42d7-9027-fcd6e38e422c",
   "metadata": {},
   "outputs": [
    {
     "data": {
      "text/html": [
       "<div>\n",
       "<style scoped>\n",
       "    .dataframe tbody tr th:only-of-type {\n",
       "        vertical-align: middle;\n",
       "    }\n",
       "\n",
       "    .dataframe tbody tr th {\n",
       "        vertical-align: top;\n",
       "    }\n",
       "\n",
       "    .dataframe thead th {\n",
       "        text-align: right;\n",
       "    }\n",
       "</style>\n",
       "<table border=\"1\" class=\"dataframe\">\n",
       "  <thead>\n",
       "    <tr style=\"text-align: right;\">\n",
       "      <th></th>\n",
       "      <th>id</th>\n",
       "      <th>score</th>\n",
       "      <th>Estado</th>\n",
       "      <th>Genero</th>\n",
       "      <th>Idade</th>\n",
       "      <th>patrímonio</th>\n",
       "      <th>Saldo</th>\n",
       "      <th>produtos</th>\n",
       "      <th>temcartcredito</th>\n",
       "      <th>Ativo</th>\n",
       "      <th>Salario</th>\n",
       "      <th>Saiu</th>\n",
       "    </tr>\n",
       "  </thead>\n",
       "  <tbody>\n",
       "    <tr>\n",
       "      <th>0</th>\n",
       "      <td>1</td>\n",
       "      <td>619</td>\n",
       "      <td>RS</td>\n",
       "      <td>Feminino</td>\n",
       "      <td>42</td>\n",
       "      <td>2</td>\n",
       "      <td>0</td>\n",
       "      <td>1</td>\n",
       "      <td>1</td>\n",
       "      <td>1</td>\n",
       "      <td>10134888.0</td>\n",
       "      <td>1</td>\n",
       "    </tr>\n",
       "    <tr>\n",
       "      <th>1</th>\n",
       "      <td>2</td>\n",
       "      <td>608</td>\n",
       "      <td>SC</td>\n",
       "      <td>Feminino</td>\n",
       "      <td>41</td>\n",
       "      <td>1</td>\n",
       "      <td>8380786</td>\n",
       "      <td>1</td>\n",
       "      <td>0</td>\n",
       "      <td>1</td>\n",
       "      <td>11254258.0</td>\n",
       "      <td>0</td>\n",
       "    </tr>\n",
       "    <tr>\n",
       "      <th>2</th>\n",
       "      <td>3</td>\n",
       "      <td>502</td>\n",
       "      <td>RS</td>\n",
       "      <td>Feminino</td>\n",
       "      <td>42</td>\n",
       "      <td>8</td>\n",
       "      <td>1596608</td>\n",
       "      <td>3</td>\n",
       "      <td>1</td>\n",
       "      <td>0</td>\n",
       "      <td>11393157.0</td>\n",
       "      <td>1</td>\n",
       "    </tr>\n",
       "    <tr>\n",
       "      <th>3</th>\n",
       "      <td>4</td>\n",
       "      <td>699</td>\n",
       "      <td>RS</td>\n",
       "      <td>Feminino</td>\n",
       "      <td>39</td>\n",
       "      <td>1</td>\n",
       "      <td>0</td>\n",
       "      <td>2</td>\n",
       "      <td>0</td>\n",
       "      <td>0</td>\n",
       "      <td>9382663.0</td>\n",
       "      <td>0</td>\n",
       "    </tr>\n",
       "    <tr>\n",
       "      <th>4</th>\n",
       "      <td>5</td>\n",
       "      <td>850</td>\n",
       "      <td>SC</td>\n",
       "      <td>Feminino</td>\n",
       "      <td>43</td>\n",
       "      <td>2</td>\n",
       "      <td>12551082</td>\n",
       "      <td>1</td>\n",
       "      <td>1</td>\n",
       "      <td>1</td>\n",
       "      <td>790841.0</td>\n",
       "      <td>0</td>\n",
       "    </tr>\n",
       "  </tbody>\n",
       "</table>\n",
       "</div>"
      ],
      "text/plain": [
       "   id  score Estado    Genero  Idade  patrímonio     Saldo  produtos  \\\n",
       "0   1    619     RS  Feminino     42           2         0         1   \n",
       "1   2    608     SC  Feminino     41           1   8380786         1   \n",
       "2   3    502     RS  Feminino     42           8   1596608         3   \n",
       "3   4    699     RS  Feminino     39           1         0         2   \n",
       "4   5    850     SC  Feminino     43           2  12551082         1   \n",
       "\n",
       "   temcartcredito  Ativo     Salario  Saiu  \n",
       "0               1      1  10134888.0     1  \n",
       "1               0      1  11254258.0     0  \n",
       "2               1      0  11393157.0     1  \n",
       "3               0      0   9382663.0     0  \n",
       "4               1      1    790841.0     0  "
      ]
     },
     "execution_count": 15,
     "metadata": {},
     "output_type": "execute_result"
    }
   ],
   "source": [
    "#vizualizar\n",
    "dataset.head()"
   ]
  },
  {
   "cell_type": "code",
   "execution_count": 16,
   "id": "837c5d30-1528-436d-9ebe-00c9b43b79c7",
   "metadata": {},
   "outputs": [
    {
     "data": {
      "text/plain": [
       "count    9.920000e+02\n",
       "mean     3.528762e+07\n",
       "std      5.305800e+08\n",
       "min      9.677000e+03\n",
       "25%      3.029011e+06\n",
       "50%      8.703250e+06\n",
       "75%      1.405213e+07\n",
       "max      1.193469e+10\n",
       "Name: Salario, dtype: float64"
      ]
     },
     "execution_count": 16,
     "metadata": {},
     "output_type": "execute_result"
    }
   ],
   "source": [
    "#salarios remover nas e substituir pela mediana\n",
    "dataset[\"Salario\"].describe()"
   ]
  },
  {
   "cell_type": "code",
   "execution_count": 17,
   "id": "611e2455-a548-45ba-b460-36edd5a176bc",
   "metadata": {},
   "outputs": [
    {
     "data": {
      "text/plain": [
       "70518.0"
      ]
     },
     "execution_count": 17,
     "metadata": {},
     "output_type": "execute_result"
    }
   ],
   "source": [
    "mediana = sts.median(dataset[\"Salario\"])\n",
    "mediana"
   ]
  },
  {
   "cell_type": "code",
   "execution_count": 18,
   "id": "37cb0b4a-95f4-4e8c-9b45-028ebd678c36",
   "metadata": {},
   "outputs": [],
   "source": [
    "#subistituir NAN por mediana\n",
    "dataset[\"Salario\"].fillna(mediana, inplace = True)"
   ]
  },
  {
   "cell_type": "code",
   "execution_count": 19,
   "id": "b60266b1-5cec-4504-b793-0c97ded0ff4d",
   "metadata": {},
   "outputs": [
    {
     "data": {
      "text/plain": [
       "0"
      ]
     },
     "execution_count": 19,
     "metadata": {},
     "output_type": "execute_result"
    }
   ],
   "source": [
    "#verificar se NAN não existe mais\n",
    "dataset[\"Salario\"].isnull().sum()"
   ]
  },
  {
   "cell_type": "code",
   "execution_count": 20,
   "id": "694cb880-7c1b-49aa-87ac-a2044cb5a4ca",
   "metadata": {},
   "outputs": [
    {
     "data": {
      "text/plain": [
       "Genero\n",
       "F              2\n",
       "Fem            1\n",
       "Feminino     461\n",
       "M              6\n",
       "Masculino    521\n",
       "dtype: int64"
      ]
     },
     "execution_count": 20,
     "metadata": {},
     "output_type": "execute_result"
    }
   ],
   "source": [
    "#Genero falta de padronização e NAs\n",
    "agrupado = dataset.groupby([\"Genero\"]).size()\n",
    "agrupado\n"
   ]
  },
  {
   "cell_type": "code",
   "execution_count": 21,
   "id": "aee6b1de-fc4b-4c6f-adbe-47af53b58f44",
   "metadata": {},
   "outputs": [
    {
     "data": {
      "text/plain": [
       "8"
      ]
     },
     "execution_count": 21,
     "metadata": {},
     "output_type": "execute_result"
    }
   ],
   "source": [
    "#Total de NAs\n",
    "dataset[\"Genero\"].isnull().sum()"
   ]
  },
  {
   "cell_type": "code",
   "execution_count": 31,
   "id": "2911e77a-498b-4f56-9569-f9ea7551c0ba",
   "metadata": {},
   "outputs": [],
   "source": [
    "#preencher NAs com masculino\n",
    "dataset[\"Genero\"].fillna(\"masculino\", inplace = True)"
   ]
  },
  {
   "cell_type": "code",
   "execution_count": 32,
   "id": "213ccc8c-ee7e-4c19-8b2d-ef5e76eb1157",
   "metadata": {},
   "outputs": [
    {
     "data": {
      "text/plain": [
       "0"
      ]
     },
     "execution_count": 32,
     "metadata": {},
     "output_type": "execute_result"
    }
   ],
   "source": [
    "#verificar NAs novamente\n",
    "dataset[\"Genero\"].isnull().sum()                                                                                                                                                     \n"
   ]
  },
  {
   "cell_type": "code",
   "execution_count": 33,
   "id": "04c3b69d-7083-4434-8fc9-f3d36ef06508",
   "metadata": {},
   "outputs": [],
   "source": [
    "#padroniza de acordo com o dominio\n",
    "dataset.loc[dataset[\"Genero\"] == \"M\", \"Genero\"] = \"Masculino\""
   ]
  },
  {
   "cell_type": "code",
   "execution_count": 34,
   "id": "90394ccc-85ee-4cdd-8eb4-12a63a64aff3",
   "metadata": {},
   "outputs": [],
   "source": [
    "dataset.loc[dataset[\"Genero\"].isin( [\"Fem\", \"F\"]), \"Genero\"] = \"Feminino\""
   ]
  },
  {
   "cell_type": "code",
   "execution_count": 35,
   "id": "fdbefe92-8c26-4ae5-8644-0bdc5760e84f",
   "metadata": {},
   "outputs": [
    {
     "data": {
      "text/plain": [
       "Genero\n",
       "Feminino     464\n",
       "Masculino    527\n",
       "masculino      8\n",
       "dtype: int64"
      ]
     },
     "execution_count": 35,
     "metadata": {},
     "output_type": "execute_result"
    }
   ],
   "source": [
    "\n",
    "agrupado = dataset.groupby([\"Genero\"]).size()\n",
    "agrupado"
   ]
  },
  {
   "cell_type": "code",
   "execution_count": 36,
   "id": "f8bba29b-5954-4416-b7cc-a5c6760694b4",
   "metadata": {},
   "outputs": [],
   "source": [
    "dataset.loc[dataset[\"Genero\"] == \"Masculino\", \"Genero\"] = \"masculino\""
   ]
  },
  {
   "cell_type": "code",
   "execution_count": 37,
   "id": "3369da77-9ce0-4ba7-af7a-7ea971b9b88a",
   "metadata": {},
   "outputs": [
    {
     "data": {
      "text/plain": [
       "Genero\n",
       "Feminino     464\n",
       "masculino    535\n",
       "dtype: int64"
      ]
     },
     "execution_count": 37,
     "metadata": {},
     "output_type": "execute_result"
    }
   ],
   "source": [
    "#vizualiza o resultado\n",
    "agrupado = dataset.groupby([\"Genero\"]).size()\n",
    "agrupado"
   ]
  },
  {
   "cell_type": "code",
   "execution_count": 40,
   "id": "2d5ac0fe-1e21-4c15-b059-1e22d2497003",
   "metadata": {},
   "outputs": [
    {
     "data": {
      "text/plain": [
       "count    999.000000\n",
       "mean      38.902903\n",
       "std       11.401912\n",
       "min      -20.000000\n",
       "25%       32.000000\n",
       "50%       37.000000\n",
       "75%       44.000000\n",
       "max      140.000000\n",
       "Name: Idade, dtype: float64"
      ]
     },
     "execution_count": 40,
     "metadata": {},
     "output_type": "execute_result"
    }
   ],
   "source": [
    "#idades fora do dominio\n",
    "dataset[\"Idade\"].describe()"
   ]
  },
  {
   "cell_type": "code",
   "execution_count": 41,
   "id": "4c1dd5a8-70a3-46bf-85c5-969ba528aef3",
   "metadata": {},
   "outputs": [
    {
     "data": {
      "text/html": [
       "<div>\n",
       "<style scoped>\n",
       "    .dataframe tbody tr th:only-of-type {\n",
       "        vertical-align: middle;\n",
       "    }\n",
       "\n",
       "    .dataframe tbody tr th {\n",
       "        vertical-align: top;\n",
       "    }\n",
       "\n",
       "    .dataframe thead th {\n",
       "        text-align: right;\n",
       "    }\n",
       "</style>\n",
       "<table border=\"1\" class=\"dataframe\">\n",
       "  <thead>\n",
       "    <tr style=\"text-align: right;\">\n",
       "      <th></th>\n",
       "      <th>id</th>\n",
       "      <th>score</th>\n",
       "      <th>Estado</th>\n",
       "      <th>Genero</th>\n",
       "      <th>Idade</th>\n",
       "      <th>patrímonio</th>\n",
       "      <th>Saldo</th>\n",
       "      <th>produtos</th>\n",
       "      <th>temcartcredito</th>\n",
       "      <th>Ativo</th>\n",
       "      <th>Salario</th>\n",
       "      <th>Saiu</th>\n",
       "    </tr>\n",
       "  </thead>\n",
       "  <tbody>\n",
       "    <tr>\n",
       "      <th>867</th>\n",
       "      <td>869</td>\n",
       "      <td>636</td>\n",
       "      <td>RS</td>\n",
       "      <td>Feminino</td>\n",
       "      <td>-10</td>\n",
       "      <td>1</td>\n",
       "      <td>17083346</td>\n",
       "      <td>1</td>\n",
       "      <td>1</td>\n",
       "      <td>0</td>\n",
       "      <td>11051028.0</td>\n",
       "      <td>1</td>\n",
       "    </tr>\n",
       "    <tr>\n",
       "      <th>984</th>\n",
       "      <td>986</td>\n",
       "      <td>773</td>\n",
       "      <td>RS</td>\n",
       "      <td>masculino</td>\n",
       "      <td>-20</td>\n",
       "      <td>1</td>\n",
       "      <td>12453278</td>\n",
       "      <td>2</td>\n",
       "      <td>0</td>\n",
       "      <td>1</td>\n",
       "      <td>1172357.0</td>\n",
       "      <td>0</td>\n",
       "    </tr>\n",
       "    <tr>\n",
       "      <th>990</th>\n",
       "      <td>992</td>\n",
       "      <td>655</td>\n",
       "      <td>RS</td>\n",
       "      <td>masculino</td>\n",
       "      <td>140</td>\n",
       "      <td>5</td>\n",
       "      <td>93147</td>\n",
       "      <td>2</td>\n",
       "      <td>1</td>\n",
       "      <td>0</td>\n",
       "      <td>6621413.0</td>\n",
       "      <td>0</td>\n",
       "    </tr>\n",
       "  </tbody>\n",
       "</table>\n",
       "</div>"
      ],
      "text/plain": [
       "      id  score Estado     Genero  Idade  patrímonio     Saldo  produtos  \\\n",
       "867  869    636     RS   Feminino    -10           1  17083346         1   \n",
       "984  986    773     RS  masculino    -20           1  12453278         2   \n",
       "990  992    655     RS  masculino    140           5     93147         2   \n",
       "\n",
       "     temcartcredito  Ativo     Salario  Saiu  \n",
       "867               1      0  11051028.0     1  \n",
       "984               0      1   1172357.0     0  \n",
       "990               1      0   6621413.0     0  "
      ]
     },
     "execution_count": 41,
     "metadata": {},
     "output_type": "execute_result"
    }
   ],
   "source": [
    "#visualizar\n",
    "dataset.loc[(dataset[\"Idade\"] < 0 ) | ( dataset[\"Idade\"] > 120) ]"
   ]
  },
  {
   "cell_type": "code",
   "execution_count": 42,
   "id": "e8717eda-b839-4806-a009-a5f0b15c775e",
   "metadata": {},
   "outputs": [
    {
     "data": {
      "text/plain": [
       "37"
      ]
     },
     "execution_count": 42,
     "metadata": {},
     "output_type": "execute_result"
    }
   ],
   "source": [
    "mediana = sts.median(dataset[\"Idade\"])\n",
    "mediana"
   ]
  },
  {
   "cell_type": "code",
   "execution_count": 43,
   "id": "c90267c3-8625-436d-99e7-f7f438c95321",
   "metadata": {},
   "outputs": [],
   "source": [
    "#substituir\n",
    "dataset.loc[(dataset[\"Idade\"] < 0 ) | ( dataset[\"Idade\"] > 120 ), \"Idade\" ] = mediana"
   ]
  },
  {
   "cell_type": "code",
   "execution_count": 45,
   "id": "d4e3e8ce-4ca7-43a2-9c3f-9fe0a44313c7",
   "metadata": {},
   "outputs": [
    {
     "data": {
      "text/html": [
       "<div>\n",
       "<style scoped>\n",
       "    .dataframe tbody tr th:only-of-type {\n",
       "        vertical-align: middle;\n",
       "    }\n",
       "\n",
       "    .dataframe tbody tr th {\n",
       "        vertical-align: top;\n",
       "    }\n",
       "\n",
       "    .dataframe thead th {\n",
       "        text-align: right;\n",
       "    }\n",
       "</style>\n",
       "<table border=\"1\" class=\"dataframe\">\n",
       "  <thead>\n",
       "    <tr style=\"text-align: right;\">\n",
       "      <th></th>\n",
       "      <th>id</th>\n",
       "      <th>score</th>\n",
       "      <th>Estado</th>\n",
       "      <th>Genero</th>\n",
       "      <th>Idade</th>\n",
       "      <th>patrímonio</th>\n",
       "      <th>Saldo</th>\n",
       "      <th>produtos</th>\n",
       "      <th>temcartcredito</th>\n",
       "      <th>Ativo</th>\n",
       "      <th>Salario</th>\n",
       "      <th>Saiu</th>\n",
       "    </tr>\n",
       "  </thead>\n",
       "  <tbody>\n",
       "  </tbody>\n",
       "</table>\n",
       "</div>"
      ],
      "text/plain": [
       "Empty DataFrame\n",
       "Columns: [id, score, Estado, Genero, Idade, patrímonio, Saldo, produtos, temcartcredito, Ativo, Salario, Saiu]\n",
       "Index: []"
      ]
     },
     "execution_count": 45,
     "metadata": {},
     "output_type": "execute_result"
    }
   ],
   "source": [
    "#verificar se ainda existem as idades fora do dominio\n",
    "\n",
    "dataset.loc[(dataset[\"Idade\"] < 0 ) | ( dataset[\"Idade\"] > 120)]\n"
   ]
  },
  {
   "cell_type": "code",
   "execution_count": 49,
   "id": "103a046e-f89c-4fce-a855-1b99e674208b",
   "metadata": {},
   "outputs": [
    {
     "data": {
      "text/html": [
       "<div>\n",
       "<style scoped>\n",
       "    .dataframe tbody tr th:only-of-type {\n",
       "        vertical-align: middle;\n",
       "    }\n",
       "\n",
       "    .dataframe tbody tr th {\n",
       "        vertical-align: top;\n",
       "    }\n",
       "\n",
       "    .dataframe thead th {\n",
       "        text-align: right;\n",
       "    }\n",
       "</style>\n",
       "<table border=\"1\" class=\"dataframe\">\n",
       "  <thead>\n",
       "    <tr style=\"text-align: right;\">\n",
       "      <th></th>\n",
       "      <th>id</th>\n",
       "      <th>score</th>\n",
       "      <th>Estado</th>\n",
       "      <th>Genero</th>\n",
       "      <th>Idade</th>\n",
       "      <th>patrímonio</th>\n",
       "      <th>Saldo</th>\n",
       "      <th>produtos</th>\n",
       "      <th>temcartcredito</th>\n",
       "      <th>Ativo</th>\n",
       "      <th>Salario</th>\n",
       "      <th>Saiu</th>\n",
       "    </tr>\n",
       "  </thead>\n",
       "  <tbody>\n",
       "    <tr>\n",
       "      <th>80</th>\n",
       "      <td>81</td>\n",
       "      <td>665</td>\n",
       "      <td>RS</td>\n",
       "      <td>Feminino</td>\n",
       "      <td>34</td>\n",
       "      <td>1</td>\n",
       "      <td>9664554</td>\n",
       "      <td>2</td>\n",
       "      <td>0</td>\n",
       "      <td>0</td>\n",
       "      <td>17141366.0</td>\n",
       "      <td>0</td>\n",
       "    </tr>\n",
       "    <tr>\n",
       "      <th>81</th>\n",
       "      <td>81</td>\n",
       "      <td>665</td>\n",
       "      <td>RS</td>\n",
       "      <td>Feminino</td>\n",
       "      <td>34</td>\n",
       "      <td>1</td>\n",
       "      <td>9664554</td>\n",
       "      <td>2</td>\n",
       "      <td>0</td>\n",
       "      <td>0</td>\n",
       "      <td>17141366.0</td>\n",
       "      <td>0</td>\n",
       "    </tr>\n",
       "  </tbody>\n",
       "</table>\n",
       "</div>"
      ],
      "text/plain": [
       "    id  score Estado    Genero  Idade  patrímonio    Saldo  produtos  \\\n",
       "80  81    665     RS  Feminino     34           1  9664554         2   \n",
       "81  81    665     RS  Feminino     34           1  9664554         2   \n",
       "\n",
       "    temcartcredito  Ativo     Salario  Saiu  \n",
       "80               0      0  17141366.0     0  \n",
       "81               0      0  17141366.0     0  "
      ]
     },
     "execution_count": 49,
     "metadata": {},
     "output_type": "execute_result"
    }
   ],
   "source": [
    "\n",
    "#Dados duplicados, buscamos pelo ID\n",
    "\n",
    "dataset[dataset.duplicated([\"id\"], keep = False)]"
   ]
  },
  {
   "cell_type": "code",
   "execution_count": 54,
   "id": "58627cef-0ebb-413a-bb26-81219f5bf27e",
   "metadata": {},
   "outputs": [],
   "source": [
    "#excluir pelo ID\n",
    "dataset.drop_duplicates( subset = \"id\", keep = \"first\", inplace = True)   "
   ]
  },
  {
   "cell_type": "code",
   "execution_count": 56,
   "id": "09df3b88-6d3b-413b-854a-007ec3e15ed6",
   "metadata": {},
   "outputs": [
    {
     "data": {
      "text/html": [
       "<div>\n",
       "<style scoped>\n",
       "    .dataframe tbody tr th:only-of-type {\n",
       "        vertical-align: middle;\n",
       "    }\n",
       "\n",
       "    .dataframe tbody tr th {\n",
       "        vertical-align: top;\n",
       "    }\n",
       "\n",
       "    .dataframe thead th {\n",
       "        text-align: right;\n",
       "    }\n",
       "</style>\n",
       "<table border=\"1\" class=\"dataframe\">\n",
       "  <thead>\n",
       "    <tr style=\"text-align: right;\">\n",
       "      <th></th>\n",
       "      <th>id</th>\n",
       "      <th>score</th>\n",
       "      <th>Estado</th>\n",
       "      <th>Genero</th>\n",
       "      <th>Idade</th>\n",
       "      <th>patrímonio</th>\n",
       "      <th>Saldo</th>\n",
       "      <th>produtos</th>\n",
       "      <th>temcartcredito</th>\n",
       "      <th>Ativo</th>\n",
       "      <th>Salario</th>\n",
       "      <th>Saiu</th>\n",
       "    </tr>\n",
       "  </thead>\n",
       "  <tbody>\n",
       "  </tbody>\n",
       "</table>\n",
       "</div>"
      ],
      "text/plain": [
       "Empty DataFrame\n",
       "Columns: [id, score, Estado, Genero, Idade, patrímonio, Saldo, produtos, temcartcredito, Ativo, Salario, Saiu]\n",
       "Index: []"
      ]
     },
     "execution_count": 56,
     "metadata": {},
     "output_type": "execute_result"
    }
   ],
   "source": [
    "#buscar duplicados\n",
    "dataset[dataset.duplicated([\"id\"], keep = False)]"
   ]
  },
  {
   "cell_type": "code",
   "execution_count": 57,
   "id": "9168eda3-09f5-4e6f-bd60-4a41bb19da54",
   "metadata": {},
   "outputs": [
    {
     "data": {
      "text/plain": [
       "Estado\n",
       "PR    257\n",
       "RP      1\n",
       "RS    477\n",
       "SC    258\n",
       "SP      4\n",
       "TD      1\n",
       "dtype: int64"
      ]
     },
     "execution_count": 57,
     "metadata": {},
     "output_type": "execute_result"
    }
   ],
   "source": [
    "\n",
    "# Estados fora do dominio\n",
    "\n",
    "agrupado = dataset.groupby([\"Estado\"]).size()\n",
    "agrupado\n"
   ]
  },
  {
   "cell_type": "code",
   "execution_count": 58,
   "id": "0216a192-1366-414f-b367-06193c65708d",
   "metadata": {},
   "outputs": [],
   "source": [
    "#atribuir RS \n",
    "dataset.loc[dataset[\"Estado\"].isin ([\"RP\", \"SP\", \"TD\"]), \"Estado\"] = \"RS\""
   ]
  },
  {
   "cell_type": "code",
   "execution_count": 59,
   "id": "2a510200-ff4d-458e-b64b-61bacfd0d4d9",
   "metadata": {},
   "outputs": [
    {
     "data": {
      "text/plain": [
       "Estado\n",
       "PR    257\n",
       "RS    483\n",
       "SC    258\n",
       "dtype: int64"
      ]
     },
     "execution_count": 59,
     "metadata": {},
     "output_type": "execute_result"
    }
   ],
   "source": [
    "agrupado = dataset.groupby([\"Estado\"]).size()\n",
    "agrupado"
   ]
  },
  {
   "cell_type": "code",
   "execution_count": 62,
   "id": "7b02c74a-1200-4b4b-a130-1b9d72a3fb1b",
   "metadata": {},
   "outputs": [
    {
     "data": {
      "text/plain": [
       "528988918.4679201"
      ]
     },
     "execution_count": 62,
     "metadata": {},
     "output_type": "execute_result"
    }
   ],
   "source": [
    "#outliers em salario, vou considerar 2 desvio padrão\n",
    "desv = sts.stdev(dataset[\"Salario\"])\n",
    "desv"
   ]
  },
  {
   "cell_type": "code",
   "execution_count": 63,
   "id": "4198d35d-050d-43f5-9c4b-08006fa3ded5",
   "metadata": {},
   "outputs": [
    {
     "data": {
      "text/html": [
       "<div>\n",
       "<style scoped>\n",
       "    .dataframe tbody tr th:only-of-type {\n",
       "        vertical-align: middle;\n",
       "    }\n",
       "\n",
       "    .dataframe tbody tr th {\n",
       "        vertical-align: top;\n",
       "    }\n",
       "\n",
       "    .dataframe thead th {\n",
       "        text-align: right;\n",
       "    }\n",
       "</style>\n",
       "<table border=\"1\" class=\"dataframe\">\n",
       "  <thead>\n",
       "    <tr style=\"text-align: right;\">\n",
       "      <th></th>\n",
       "      <th>id</th>\n",
       "      <th>score</th>\n",
       "      <th>Estado</th>\n",
       "      <th>Genero</th>\n",
       "      <th>Idade</th>\n",
       "      <th>patrímonio</th>\n",
       "      <th>Saldo</th>\n",
       "      <th>produtos</th>\n",
       "      <th>temcartcredito</th>\n",
       "      <th>Ativo</th>\n",
       "      <th>Salario</th>\n",
       "      <th>Saiu</th>\n",
       "    </tr>\n",
       "  </thead>\n",
       "  <tbody>\n",
       "    <tr>\n",
       "      <th>7</th>\n",
       "      <td>8</td>\n",
       "      <td>376</td>\n",
       "      <td>PR</td>\n",
       "      <td>Feminino</td>\n",
       "      <td>29</td>\n",
       "      <td>4</td>\n",
       "      <td>11504674</td>\n",
       "      <td>4</td>\n",
       "      <td>1</td>\n",
       "      <td>0</td>\n",
       "      <td>1.193469e+10</td>\n",
       "      <td>1</td>\n",
       "    </tr>\n",
       "    <tr>\n",
       "      <th>116</th>\n",
       "      <td>118</td>\n",
       "      <td>668</td>\n",
       "      <td>PR</td>\n",
       "      <td>Feminino</td>\n",
       "      <td>37</td>\n",
       "      <td>6</td>\n",
       "      <td>1678644</td>\n",
       "      <td>1</td>\n",
       "      <td>1</td>\n",
       "      <td>0</td>\n",
       "      <td>1.156383e+10</td>\n",
       "      <td>0</td>\n",
       "    </tr>\n",
       "    <tr>\n",
       "      <th>170</th>\n",
       "      <td>172</td>\n",
       "      <td>484</td>\n",
       "      <td>RS</td>\n",
       "      <td>Feminino</td>\n",
       "      <td>29</td>\n",
       "      <td>4</td>\n",
       "      <td>13011439</td>\n",
       "      <td>1</td>\n",
       "      <td>1</td>\n",
       "      <td>0</td>\n",
       "      <td>1.640179e+09</td>\n",
       "      <td>0</td>\n",
       "    </tr>\n",
       "    <tr>\n",
       "      <th>230</th>\n",
       "      <td>232</td>\n",
       "      <td>673</td>\n",
       "      <td>RS</td>\n",
       "      <td>masculino</td>\n",
       "      <td>72</td>\n",
       "      <td>1</td>\n",
       "      <td>0</td>\n",
       "      <td>2</td>\n",
       "      <td>0</td>\n",
       "      <td>1</td>\n",
       "      <td>1.119812e+09</td>\n",
       "      <td>0</td>\n",
       "    </tr>\n",
       "  </tbody>\n",
       "</table>\n",
       "</div>"
      ],
      "text/plain": [
       "      id  score Estado     Genero  Idade  patrímonio     Saldo  produtos  \\\n",
       "7      8    376     PR   Feminino     29           4  11504674         4   \n",
       "116  118    668     PR   Feminino     37           6   1678644         1   \n",
       "170  172    484     RS   Feminino     29           4  13011439         1   \n",
       "230  232    673     RS  masculino     72           1         0         2   \n",
       "\n",
       "     temcartcredito  Ativo       Salario  Saiu  \n",
       "7                 1      0  1.193469e+10     1  \n",
       "116               1      0  1.156383e+10     0  \n",
       "170               1      0  1.640179e+09     0  \n",
       "230               0      1  1.119812e+09     0  "
      ]
     },
     "execution_count": 63,
     "metadata": {},
     "output_type": "execute_result"
    }
   ],
   "source": [
    "#definir padrão como maior que 2 desvio padrão\n",
    "#checar se algum atende critério\n",
    "dataset.loc[dataset[\"Salario\"] >= 2 * desv]"
   ]
  },
  {
   "cell_type": "code",
   "execution_count": 64,
   "id": "f55daccf-7cb5-4723-b11d-bb81ac31e6ba",
   "metadata": {},
   "outputs": [
    {
     "data": {
      "text/plain": [
       "8637195.5"
      ]
     },
     "execution_count": 64,
     "metadata": {},
     "output_type": "execute_result"
    }
   ],
   "source": [
    "#atualizar salarios para mediana, calculamos\n",
    "mediana = sts.median(dataset[\"Salario\"])\n",
    "mediana"
   ]
  },
  {
   "cell_type": "code",
   "execution_count": 65,
   "id": "0974e1b1-f944-406c-84ba-9885ca6c7a90",
   "metadata": {},
   "outputs": [],
   "source": [
    "#atribuir\n",
    "dataset.loc[dataset[\"Salario\"] >= 2 * desv, \"Salario\"] = mediana\n"
   ]
  },
  {
   "cell_type": "code",
   "execution_count": 67,
   "id": "c16e6388-ae98-4f0d-8556-3b3b364b93d3",
   "metadata": {},
   "outputs": [
    {
     "data": {
      "text/html": [
       "<div>\n",
       "<style scoped>\n",
       "    .dataframe tbody tr th:only-of-type {\n",
       "        vertical-align: middle;\n",
       "    }\n",
       "\n",
       "    .dataframe tbody tr th {\n",
       "        vertical-align: top;\n",
       "    }\n",
       "\n",
       "    .dataframe thead th {\n",
       "        text-align: right;\n",
       "    }\n",
       "</style>\n",
       "<table border=\"1\" class=\"dataframe\">\n",
       "  <thead>\n",
       "    <tr style=\"text-align: right;\">\n",
       "      <th></th>\n",
       "      <th>id</th>\n",
       "      <th>score</th>\n",
       "      <th>Estado</th>\n",
       "      <th>Genero</th>\n",
       "      <th>Idade</th>\n",
       "      <th>patrímonio</th>\n",
       "      <th>Saldo</th>\n",
       "      <th>produtos</th>\n",
       "      <th>temcartcredito</th>\n",
       "      <th>Ativo</th>\n",
       "      <th>Salario</th>\n",
       "      <th>Saiu</th>\n",
       "    </tr>\n",
       "  </thead>\n",
       "  <tbody>\n",
       "  </tbody>\n",
       "</table>\n",
       "</div>"
      ],
      "text/plain": [
       "Empty DataFrame\n",
       "Columns: [id, score, Estado, Genero, Idade, patrímonio, Saldo, produtos, temcartcredito, Ativo, Salario, Saiu]\n",
       "Index: []"
      ]
     },
     "execution_count": 67,
     "metadata": {},
     "output_type": "execute_result"
    }
   ],
   "source": [
    "#remover os outliers\n",
    "dataset.loc[dataset[\"Salario\"] >= 2 * desv]"
   ]
  },
  {
   "cell_type": "code",
   "execution_count": 68,
   "id": "91796bc8-5d06-46c7-a2b2-551cae2f4e73",
   "metadata": {},
   "outputs": [
    {
     "data": {
      "text/html": [
       "<div>\n",
       "<style scoped>\n",
       "    .dataframe tbody tr th:only-of-type {\n",
       "        vertical-align: middle;\n",
       "    }\n",
       "\n",
       "    .dataframe tbody tr th {\n",
       "        vertical-align: top;\n",
       "    }\n",
       "\n",
       "    .dataframe thead th {\n",
       "        text-align: right;\n",
       "    }\n",
       "</style>\n",
       "<table border=\"1\" class=\"dataframe\">\n",
       "  <thead>\n",
       "    <tr style=\"text-align: right;\">\n",
       "      <th></th>\n",
       "      <th>id</th>\n",
       "      <th>score</th>\n",
       "      <th>Estado</th>\n",
       "      <th>Genero</th>\n",
       "      <th>Idade</th>\n",
       "      <th>patrímonio</th>\n",
       "      <th>Saldo</th>\n",
       "      <th>produtos</th>\n",
       "      <th>temcartcredito</th>\n",
       "      <th>Ativo</th>\n",
       "      <th>Salario</th>\n",
       "      <th>Saiu</th>\n",
       "    </tr>\n",
       "  </thead>\n",
       "  <tbody>\n",
       "    <tr>\n",
       "      <th>0</th>\n",
       "      <td>1</td>\n",
       "      <td>619</td>\n",
       "      <td>RS</td>\n",
       "      <td>Feminino</td>\n",
       "      <td>42</td>\n",
       "      <td>2</td>\n",
       "      <td>0</td>\n",
       "      <td>1</td>\n",
       "      <td>1</td>\n",
       "      <td>1</td>\n",
       "      <td>10134888.0</td>\n",
       "      <td>1</td>\n",
       "    </tr>\n",
       "    <tr>\n",
       "      <th>1</th>\n",
       "      <td>2</td>\n",
       "      <td>608</td>\n",
       "      <td>SC</td>\n",
       "      <td>Feminino</td>\n",
       "      <td>41</td>\n",
       "      <td>1</td>\n",
       "      <td>8380786</td>\n",
       "      <td>1</td>\n",
       "      <td>0</td>\n",
       "      <td>1</td>\n",
       "      <td>11254258.0</td>\n",
       "      <td>0</td>\n",
       "    </tr>\n",
       "    <tr>\n",
       "      <th>2</th>\n",
       "      <td>3</td>\n",
       "      <td>502</td>\n",
       "      <td>RS</td>\n",
       "      <td>Feminino</td>\n",
       "      <td>42</td>\n",
       "      <td>8</td>\n",
       "      <td>1596608</td>\n",
       "      <td>3</td>\n",
       "      <td>1</td>\n",
       "      <td>0</td>\n",
       "      <td>11393157.0</td>\n",
       "      <td>1</td>\n",
       "    </tr>\n",
       "    <tr>\n",
       "      <th>3</th>\n",
       "      <td>4</td>\n",
       "      <td>699</td>\n",
       "      <td>RS</td>\n",
       "      <td>Feminino</td>\n",
       "      <td>39</td>\n",
       "      <td>1</td>\n",
       "      <td>0</td>\n",
       "      <td>2</td>\n",
       "      <td>0</td>\n",
       "      <td>0</td>\n",
       "      <td>9382663.0</td>\n",
       "      <td>0</td>\n",
       "    </tr>\n",
       "    <tr>\n",
       "      <th>4</th>\n",
       "      <td>5</td>\n",
       "      <td>850</td>\n",
       "      <td>SC</td>\n",
       "      <td>Feminino</td>\n",
       "      <td>43</td>\n",
       "      <td>2</td>\n",
       "      <td>12551082</td>\n",
       "      <td>1</td>\n",
       "      <td>1</td>\n",
       "      <td>1</td>\n",
       "      <td>790841.0</td>\n",
       "      <td>0</td>\n",
       "    </tr>\n",
       "  </tbody>\n",
       "</table>\n",
       "</div>"
      ],
      "text/plain": [
       "   id  score Estado    Genero  Idade  patrímonio     Saldo  produtos  \\\n",
       "0   1    619     RS  Feminino     42           2         0         1   \n",
       "1   2    608     SC  Feminino     41           1   8380786         1   \n",
       "2   3    502     RS  Feminino     42           8   1596608         3   \n",
       "3   4    699     RS  Feminino     39           1         0         2   \n",
       "4   5    850     SC  Feminino     43           2  12551082         1   \n",
       "\n",
       "   temcartcredito  Ativo     Salario  Saiu  \n",
       "0               1      1  10134888.0     1  \n",
       "1               0      1  11254258.0     0  \n",
       "2               1      0  11393157.0     1  \n",
       "3               0      0   9382663.0     0  \n",
       "4               1      1    790841.0     0  "
      ]
     },
     "execution_count": 68,
     "metadata": {},
     "output_type": "execute_result"
    }
   ],
   "source": [
    "dataset.head()"
   ]
  }
 ],
 "metadata": {
  "kernelspec": {
   "display_name": "Python 3 (ipykernel)",
   "language": "python",
   "name": "python3"
  },
  "language_info": {
   "codemirror_mode": {
    "name": "ipython",
    "version": 3
   },
   "file_extension": ".py",
   "mimetype": "text/x-python",
   "name": "python",
   "nbconvert_exporter": "python",
   "pygments_lexer": "ipython3",
   "version": "3.9.13"
  }
 },
 "nbformat": 4,
 "nbformat_minor": 5
}
